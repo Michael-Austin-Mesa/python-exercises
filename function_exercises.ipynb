{
 "cells": [
  {
   "cell_type": "markdown",
   "id": "ee1cd11b",
   "metadata": {},
   "source": [
    "## Q1"
   ]
  },
  {
   "cell_type": "code",
   "execution_count": 10,
   "id": "ed670726",
   "metadata": {},
   "outputs": [
    {
     "data": {
      "text/plain": [
       "True"
      ]
     },
     "execution_count": 10,
     "metadata": {},
     "output_type": "execute_result"
    }
   ],
   "source": [
    "# is_two defines one parameter, n that is an int, and returns a boolean value\n",
    "def is_two(n):\n",
    "    \n",
    "    #we check to see if the argument is equal to 2 and return the boolean value\n",
    "    return n == 2\n",
    "is_two(2)"
   ]
  },
  {
   "cell_type": "markdown",
   "id": "4da5e551",
   "metadata": {},
   "source": [
    "## Q2"
   ]
  },
  {
   "cell_type": "code",
   "execution_count": 30,
   "id": "20ed5054",
   "metadata": {},
   "outputs": [
    {
     "data": {
      "text/plain": [
       "True"
      ]
     },
     "execution_count": 30,
     "metadata": {},
     "output_type": "execute_result"
    }
   ],
   "source": [
    "# is_vowel defines one parameter, n that is a string, and returns a boolean value\n",
    "def is_vowel(n):\n",
    "    \n",
    "    # check to see if the argument is equal any vowel characters and return boolean value\n",
    "    return n == 'a' or n == 'e' or n == 'i' or n == 'o' or n == 'u'\n",
    "is_vowel('a')"
   ]
  },
  {
   "cell_type": "markdown",
   "id": "4386583e",
   "metadata": {},
   "source": [
    "## Q3"
   ]
  },
  {
   "cell_type": "code",
   "execution_count": 23,
   "id": "8eaef866",
   "metadata": {},
   "outputs": [
    {
     "data": {
      "text/plain": [
       "True"
      ]
     },
     "execution_count": 23,
     "metadata": {},
     "output_type": "execute_result"
    }
   ],
   "source": [
    "# is_consonant defines one parameter, n that is a string, and returns a boolean value\n",
    "def is_consonant(n):\n",
    "    \n",
    "    # check to see if the argument is NOT equal to ALL vowel characters and return a boolean value\n",
    "     return n != 'a' and n != 'e' and n != 'i' and n != 'o' and n != 'u'\n",
    "is_consonant('c')"
   ]
  },
  {
   "cell_type": "markdown",
   "id": "09855011",
   "metadata": {},
   "source": [
    "## Q4"
   ]
  },
  {
   "cell_type": "code",
   "execution_count": 93,
   "id": "44ea4c5a",
   "metadata": {},
   "outputs": [
    {
     "name": "stdout",
     "output_type": "stream",
     "text": [
      "Enter a word: Apple\n",
      "No consonant in first position\n"
     ]
    },
    {
     "data": {
      "text/plain": [
       "'Apple'"
      ]
     },
     "execution_count": 93,
     "metadata": {},
     "output_type": "execute_result"
    }
   ],
   "source": [
    "# cap_start_con takes in user input, n as a string, and returns users input capitalized so long as it begins with a consonant\n",
    "def cap_start_con():\n",
    "    \n",
    "    # user input string as n\n",
    "    n = input('Enter a word: ')\n",
    "    \n",
    "    # initialize string vowel used to compare first position of user input n\n",
    "    vowel = 'aeiouAEIOU'\n",
    "    \n",
    "    # check to see if first position in user input n is within string vowel\n",
    "    if n[0] in vowel:\n",
    "        \n",
    "        # prints error message, ends function\n",
    "        print('No consonant in first position')\n",
    "        \n",
    "    # continues function\n",
    "    else:\n",
    "        # runs python function to capitalize string on user input n\n",
    "        n = n.capitalize()\n",
    "\n",
    "    return n\n",
    "cap_start_con()"
   ]
  },
  {
   "cell_type": "markdown",
   "id": "679740f1",
   "metadata": {},
   "source": [
    "## Q5"
   ]
  },
  {
   "cell_type": "code",
   "execution_count": 94,
   "id": "795b64b5",
   "metadata": {},
   "outputs": [
    {
     "name": "stdout",
     "output_type": "stream",
     "text": [
      "Enter tip %: 2\n",
      "Enter total bill: $2\n",
      "Tip calculated: $0.04\n"
     ]
    }
   ],
   "source": [
    "# calculate_tip takes in two user inputs as arguments, n and m which are casted as a float from string\n",
    "# returns a single float\n",
    "def calculate_tip():\n",
    "    \n",
    "    # user input percentage as n to multiply total bill by to get tip\n",
    "    n = float(input('Enter tip %: '))\n",
    "    \n",
    "    # user input total bill as m to multiply percentage by to get tip\n",
    "    m = float(input('Enter total bill: $'))\n",
    "    \n",
    "    # calculated tip by multiplying n and m\n",
    "    tip = (.01*n)*m\n",
    "    \n",
    "    # we round the result of the calculations to the nearest second decimal point\n",
    "    tip = round(tip, 2)\n",
    "    \n",
    "    # return string with rounded tip amount\n",
    "    return print(f'Tip calculated: ${tip}')\n",
    "\n",
    "calculate_tip()"
   ]
  },
  {
   "cell_type": "markdown",
   "id": "aca896a7",
   "metadata": {},
   "source": [
    "## Q6"
   ]
  },
  {
   "cell_type": "code",
   "execution_count": 54,
   "id": "a11116f1",
   "metadata": {},
   "outputs": [
    {
     "name": "stdout",
     "output_type": "stream",
     "text": [
      "Enter price: $100\n",
      "Enter discount %: 21\n",
      "Discounted Price: $79.0\n"
     ]
    }
   ],
   "source": [
    "# apply_discount takes in two user inputs as arguments, n and m as floats, and returns a float\n",
    "def apply_discount():\n",
    "    \n",
    "    # user input price n\n",
    "    n = float(input('Enter price: $'))\n",
    "    \n",
    "    # user input discount m\n",
    "    m = float(input('Enter discount %: '))\n",
    "    \n",
    "    # equation to find discounted price using n and m as discountprice\n",
    "    discountprice = (1-(.01*m))*n\n",
    "    \n",
    "    # rounding result of discountprice\n",
    "    discountprice = round(discountprice, 2)\n",
    "    \n",
    "    # return string with discountprice\n",
    "    return print(f'Discounted Price: ${discountprice}')\n",
    "\n",
    "\n",
    "apply_discount()"
   ]
  },
  {
   "cell_type": "markdown",
   "id": "7d05377b",
   "metadata": {},
   "source": [
    "## Q7"
   ]
  },
  {
   "cell_type": "code",
   "execution_count": null,
   "id": "5d82b877",
   "metadata": {},
   "outputs": [],
   "source": [
    "# handle_commas takes in user input, n as a string, and returned an int\n",
    "def handle_commas():\n",
    "    \n",
    "    # takes in user input as a string n\n",
    "    n = input('Enter a number with commas: ')\n",
    "    \n",
    "    # removes commas and replaces character with nothing\n",
    "    n = n.replace(',','')\n",
    "    \n",
    "    # returns n casted as an int, returns error if user input is not a number\n",
    "    return int(n)\n",
    "handle_commas()"
   ]
  },
  {
   "cell_type": "markdown",
   "id": "3ac50b15",
   "metadata": {},
   "source": [
    "## Q8"
   ]
  },
  {
   "cell_type": "code",
   "execution_count": 4,
   "id": "88463d8e",
   "metadata": {},
   "outputs": [
    {
     "name": "stdout",
     "output_type": "stream",
     "text": [
      "Enter a number: 98\n"
     ]
    },
    {
     "data": {
      "text/plain": [
       "'Grade A'"
      ]
     },
     "execution_count": 4,
     "metadata": {},
     "output_type": "execute_result"
    }
   ],
   "source": [
    "# get_letter_grade takes in user input, n as a string, and returns a string\n",
    "def get_letter_grade():\n",
    "    \n",
    "    # user input as a string which gets casted to an int\n",
    "    n = int(input('Enter a number: '))\n",
    "    \n",
    "    \n",
    "    # n is checked against multiple ranges to determine what string will be returned\n",
    "    if n in range(90,101):\n",
    "        return 'Grade A'\n",
    "    elif n in range(80,90):\n",
    "        return 'Grade B'\n",
    "    elif n in range(70,80):\n",
    "        return 'Grade C'\n",
    "    elif n in range(60,70):\n",
    "        return 'Grade D'\n",
    "    elif n in range(0,60):\n",
    "        return 'Grade F'\n",
    "get_letter_grade()"
   ]
  },
  {
   "cell_type": "markdown",
   "id": "8e2808d8",
   "metadata": {},
   "source": [
    "## Q9"
   ]
  },
  {
   "cell_type": "code",
   "execution_count": 67,
   "id": "b6130fbb",
   "metadata": {},
   "outputs": [
    {
     "name": "stdout",
     "output_type": "stream",
     "text": [
      "Enter a word with vowels: hello bruh\n"
     ]
    },
    {
     "data": {
      "text/plain": [
       "'hll brh'"
      ]
     },
     "execution_count": 67,
     "metadata": {},
     "output_type": "execute_result"
    }
   ],
   "source": [
    "# remove_vowels takes in user input, n as a string, and returns a string\n",
    "def remove_vowels():\n",
    "    \n",
    "    #initialize local variable string to compare\n",
    "    vowels = 'aeiouAEIOU'\n",
    "    \n",
    "    #initialize local variable empty string to build new string to return\n",
    "    result = ''\n",
    "    \n",
    "    # user input string to compare\n",
    "    n = input('Enter a word with vowels: ')\n",
    "    \n",
    "    # loop to iterate through characters in user input string n\n",
    "    for letter in n:\n",
    "        \n",
    "        # compares letter to vowels and checks if letter is not a vowel\n",
    "        if letter not in vowels:\n",
    "            \n",
    "            # adds passing letter to result string\n",
    "            result += letter\n",
    "            \n",
    "     #return newly built string result       \n",
    "    return result\n",
    "remove_vowels()"
   ]
  },
  {
   "cell_type": "markdown",
   "id": "98efc376",
   "metadata": {},
   "source": [
    "## Q10"
   ]
  },
  {
   "cell_type": "code",
   "execution_count": 84,
   "id": "143cefa0",
   "metadata": {},
   "outputs": [
    {
     "name": "stdout",
     "output_type": "stream",
     "text": [
      "Enter a string with valid python identifiers: ^^^^^^HELLO WORLD\n"
     ]
    },
    {
     "data": {
      "text/plain": [
       "'hello_world'"
      ]
     },
     "execution_count": 84,
     "metadata": {},
     "output_type": "execute_result"
    }
   ],
   "source": [
    "import re #Regular expression operations\n",
    "def normalize_name():\n",
    "    \n",
    "    # user input as a string n\n",
    "    n = input('Enter a string with valid python identifiers: ')\n",
    "    \n",
    "    # replaces spacese with underscores\n",
    "    n = n.replace(' ','_')\n",
    "    \n",
    "    # casts string as all lower case characters\n",
    "    n = n.lower()\n",
    "    \n",
    "    # removes white space before and after string\n",
    "    n = n.strip()\n",
    "    \n",
    "    #removes non-alphanumeric character from string\n",
    "    n = re.sub(r'\\W+', '', n) #used import instead of a more intensive workaround\n",
    "    return n\n",
    "normalize_name()"
   ]
  },
  {
   "cell_type": "markdown",
   "id": "1338da1f",
   "metadata": {},
   "source": [
    "## Q11"
   ]
  },
  {
   "cell_type": "code",
   "execution_count": 91,
   "id": "b2fbc211",
   "metadata": {},
   "outputs": [
    {
     "data": {
      "text/plain": [
       "[1, 3, 6, 10, 15]"
      ]
     },
     "execution_count": 91,
     "metadata": {},
     "output_type": "execute_result"
    }
   ],
   "source": [
    "# cumulate_sum function takes in one argument, nlist as a list, and returns a list\n",
    "def cumulate_sum(nlist):\n",
    "    \n",
    "    # local variable to mark the position and its cumulative sum\n",
    "    position = 0\n",
    "    \n",
    "    # local variable empty list to be built with cumulative sums\n",
    "    cum_list =[]\n",
    "    \n",
    "    # iterate through numbers in nlist\n",
    "    for i in nlist:\n",
    "        \n",
    "        # sum value of position and i\n",
    "        position=position+i\n",
    "        \n",
    "        #updates empty list with results of summation\n",
    "        cum_list.append(position)\n",
    "        \n",
    "    # returns new list   \n",
    "    return cum_list\n",
    "    \n",
    "cumulate_sum([1,2,3,4,5]) # or just import numpy and use numpy.cumsum()"
   ]
  }
 ],
 "metadata": {
  "kernelspec": {
   "display_name": "Python 3 (ipykernel)",
   "language": "python",
   "name": "python3"
  },
  "language_info": {
   "codemirror_mode": {
    "name": "ipython",
    "version": 3
   },
   "file_extension": ".py",
   "mimetype": "text/x-python",
   "name": "python",
   "nbconvert_exporter": "python",
   "pygments_lexer": "ipython3",
   "version": "3.9.12"
  }
 },
 "nbformat": 4,
 "nbformat_minor": 5
}
